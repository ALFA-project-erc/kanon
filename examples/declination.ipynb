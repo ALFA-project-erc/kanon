{
 "cells": [
  {
   "source": [
    "Building a declination table\n",
    "============================"
   ],
   "cell_type": "markdown",
   "metadata": {}
  },
  {
   "cell_type": "code",
   "execution_count": 1,
   "metadata": {},
   "outputs": [],
   "source": [
    "from kanon.units import Sexagesimal\n",
    "import astropy.table\n",
    "from kanon.tables import HTable\n",
    "import math"
   ]
  },
  {
   "cell_type": "code",
   "execution_count": 2,
   "metadata": {},
   "outputs": [],
   "source": [
    "# For these calculations we will round after every operations.\n",
    "\n",
    "from kanon.units.precision import get_context, TruncatureMode\n",
    "get_context().mutate(tmode=TruncatureMode.ROUND)\n"
   ]
  },
  {
   "cell_type": "code",
   "execution_count": 3,
   "metadata": {
    "tags": [
     "parameters"
    ]
   },
   "outputs": [],
   "source": [
    "OBLIQUITY = \"23;51,20\""
   ]
  },
  {
   "cell_type": "code",
   "execution_count": 4,
   "metadata": {},
   "outputs": [
    {
     "output_type": "execute_result",
     "data": {
      "text/plain": [
       "<HTable length=91>\n",
       "  Arg         Val     \n",
       " object      object   \n",
       "-------- -------------\n",
       "   00 ;  00 ; 00,00,00\n",
       "   01 ;  00 ; 01,02,50\n",
       "   02 ;  00 ; 02,05,38\n",
       "   03 ;  00 ; 03,08,25\n",
       "   04 ;  00 ; 04,11,07\n",
       "   05 ;  00 ; 05,13,46\n",
       "   06 ;  00 ; 06,16,18\n",
       "   07 ;  00 ; 07,18,44\n",
       "   08 ;  00 ; 08,21,01\n",
       "   09 ;  00 ; 09,23,10\n",
       "     ...           ...\n",
       "01,21 ;  00 ; 59,15,41\n",
       "01,22 ;  00 ; 59,24,58\n",
       "01,23 ;  00 ; 59,33,10\n",
       "01,24 ;  00 ; 59,40,17\n",
       "01,25 ;  00 ; 59,46,18\n",
       "01,26 ;  00 ; 59,51,14\n",
       "01,27 ;  00 ; 59,55,04\n",
       "01,28 ;  00 ; 59,57,48\n",
       "01,29 ;  00 ; 59,59,27\n",
       "01,30 ;  01 ; 00,00,00"
      ],
      "text/html": "<i>HTable length=91</i>\n<table id=\"table139778647256944\" class=\"table-striped table-bordered table-condensed\">\n<thead><tr><th>Arg</th><th>Val</th></tr></thead>\n<thead><tr><th>object</th><th>object</th></tr></thead>\n<tr><td>00 ;</td><td>00 ; 00,00,00</td></tr>\n<tr><td>01 ;</td><td>00 ; 01,02,50</td></tr>\n<tr><td>02 ;</td><td>00 ; 02,05,38</td></tr>\n<tr><td>03 ;</td><td>00 ; 03,08,25</td></tr>\n<tr><td>04 ;</td><td>00 ; 04,11,07</td></tr>\n<tr><td>05 ;</td><td>00 ; 05,13,46</td></tr>\n<tr><td>06 ;</td><td>00 ; 06,16,18</td></tr>\n<tr><td>07 ;</td><td>00 ; 07,18,44</td></tr>\n<tr><td>08 ;</td><td>00 ; 08,21,01</td></tr>\n<tr><td>09 ;</td><td>00 ; 09,23,10</td></tr>\n<tr><td>...</td><td>...</td></tr>\n<tr><td>01,21 ;</td><td>00 ; 59,15,41</td></tr>\n<tr><td>01,22 ;</td><td>00 ; 59,24,58</td></tr>\n<tr><td>01,23 ;</td><td>00 ; 59,33,10</td></tr>\n<tr><td>01,24 ;</td><td>00 ; 59,40,17</td></tr>\n<tr><td>01,25 ;</td><td>00 ; 59,46,18</td></tr>\n<tr><td>01,26 ;</td><td>00 ; 59,51,14</td></tr>\n<tr><td>01,27 ;</td><td>00 ; 59,55,04</td></tr>\n<tr><td>01,28 ;</td><td>00 ; 59,57,48</td></tr>\n<tr><td>01,29 ;</td><td>00 ; 59,59,27</td></tr>\n<tr><td>01,30 ;</td><td>01 ; 00,00,00</td></tr>\n</table>"
     },
     "metadata": {},
     "execution_count": 4
    }
   ],
   "source": [
    "# We construct a table of sine from 0 to 90.\n",
    "\n",
    "sin_table = HTable([\n",
    "    list(Sexagesimal.range(91)),\n",
    "    [round(Sexagesimal.from_float(math.sin(x * math.pi / 180), 3)) for x in range(91)]\n",
    "], names=(\"Arg\", \"Val\"), index=\"Arg\")\n",
    "\n",
    "sin_table"
   ]
  },
  {
   "cell_type": "code",
   "execution_count": 5,
   "metadata": {},
   "outputs": [
    {
     "output_type": "execute_result",
     "data": {
      "text/plain": [
       "<HTable length=91>\n",
       "  Arg         Val     \n",
       " object      object   \n",
       "-------- -------------\n",
       "   00 ;  00 ; 00,00,00\n",
       "   01 ;  00 ; 00,25,25\n",
       "   02 ;  00 ; 00,50,49\n",
       "   03 ;  00 ; 01,16,12\n",
       "   04 ;  00 ; 01,41,33\n",
       "   05 ;  00 ; 02,06,54\n",
       "   06 ;  00 ; 02,32,11\n",
       "   07 ;  00 ; 02,57,26\n",
       "   08 ;  00 ; 03,22,37\n",
       "   09 ;  00 ; 03,47,46\n",
       "     ...           ...\n",
       "01,21 ;  00 ; 23,58,01\n",
       "01,22 ;  00 ; 24,01,46\n",
       "01,23 ;  00 ; 24,05,05\n",
       "01,24 ;  00 ; 24,07,58\n",
       "01,25 ;  00 ; 24,10,24\n",
       "01,26 ;  00 ; 24,12,23\n",
       "01,27 ;  00 ; 24,13,56\n",
       "01,28 ;  00 ; 24,15,03\n",
       "01,29 ;  00 ; 24,15,43\n",
       "01,30 ;  00 ; 24,15,56"
      ],
      "text/html": "<i>HTable length=91</i>\n<table id=\"table139778649816224\" class=\"table-striped table-bordered table-condensed\">\n<thead><tr><th>Arg</th><th>Val</th></tr></thead>\n<thead><tr><th>object</th><th>object</th></tr></thead>\n<tr><td>00 ;</td><td>00 ; 00,00,00</td></tr>\n<tr><td>01 ;</td><td>00 ; 00,25,25</td></tr>\n<tr><td>02 ;</td><td>00 ; 00,50,49</td></tr>\n<tr><td>03 ;</td><td>00 ; 01,16,12</td></tr>\n<tr><td>04 ;</td><td>00 ; 01,41,33</td></tr>\n<tr><td>05 ;</td><td>00 ; 02,06,54</td></tr>\n<tr><td>06 ;</td><td>00 ; 02,32,11</td></tr>\n<tr><td>07 ;</td><td>00 ; 02,57,26</td></tr>\n<tr><td>08 ;</td><td>00 ; 03,22,37</td></tr>\n<tr><td>09 ;</td><td>00 ; 03,47,46</td></tr>\n<tr><td>...</td><td>...</td></tr>\n<tr><td>01,21 ;</td><td>00 ; 23,58,01</td></tr>\n<tr><td>01,22 ;</td><td>00 ; 24,01,46</td></tr>\n<tr><td>01,23 ;</td><td>00 ; 24,05,05</td></tr>\n<tr><td>01,24 ;</td><td>00 ; 24,07,58</td></tr>\n<tr><td>01,25 ;</td><td>00 ; 24,10,24</td></tr>\n<tr><td>01,26 ;</td><td>00 ; 24,12,23</td></tr>\n<tr><td>01,27 ;</td><td>00 ; 24,13,56</td></tr>\n<tr><td>01,28 ;</td><td>00 ; 24,15,03</td></tr>\n<tr><td>01,29 ;</td><td>00 ; 24,15,43</td></tr>\n<tr><td>01,30 ;</td><td>00 ; 24,15,56</td></tr>\n</table>"
     },
     "metadata": {},
     "execution_count": 5
    }
   ],
   "source": [
    "# We apply a multiplication on all the sine values to get obl_table = Sin(x) * obl\n",
    "\n",
    "obl = sin_table.get(Sexagesimal(OBLIQUITY))\n",
    "\n",
    "obl_table = sin_table.apply(\"Val\", lambda x: x * obl)\n",
    "obl_table\n"
   ]
  },
  {
   "cell_type": "code",
   "execution_count": 6,
   "metadata": {},
   "outputs": [
    {
     "output_type": "execute_result",
     "data": {
      "text/plain": [
       "17 ; 27,29,49,59"
      ]
     },
     "metadata": {},
     "execution_count": 6
    }
   ],
   "source": [
    "# Arcsin is sin_table taken from Val to Arg instead of Arg to Val.\n",
    "\n",
    "arcsin_table = sin_table.copy(set_index=\"Val\")\n",
    "\n",
    "# For example, if we want arcsin(0.3) :\n",
    "\n",
    "arcsin_table.get(0.3)\n"
   ]
  },
  {
   "cell_type": "code",
   "execution_count": 7,
   "metadata": {},
   "outputs": [
    {
     "output_type": "execute_result",
     "data": {
      "text/plain": [
       "<HTable length=91>\n",
       "  Arg         Val     \n",
       " object      object   \n",
       "-------- -------------\n",
       "   00 ;          00 ; \n",
       "   01 ;  00 ; 24,16,14\n",
       "   02 ;  00 ; 48,31,31\n",
       "   03 ;  01 ; 12,46,15\n",
       "   04 ;  01 ; 36,59,26\n",
       "   05 ;  02 ; 01,12,38\n",
       "   06 ;  02 ; 25,22,23\n",
       "   07 ;  02 ; 49,30,13\n",
       "   08 ;  03 ; 13,35,19\n",
       "   09 ;  03 ; 37,39,20\n",
       "     ...           ...\n",
       "01,21 ;  23 ; 32,40,53\n",
       "01,22 ;  23 ; 36,35,12\n",
       "01,23 ;  23 ; 40,02,26\n",
       "01,24 ;  23 ; 43,02,35\n",
       "01,25 ;  23 ; 45,34,38\n",
       "01,26 ;  23 ; 47,38,33\n",
       "01,27 ;  23 ; 49,15,24\n",
       "01,28 ;  23 ; 50,25,10\n",
       "01,29 ;  23 ; 51,06,49\n",
       "01,30 ;  23 ; 51,20,22"
      ],
      "text/html": "<i>HTable length=91</i>\n<table id=\"table139779919867232\" class=\"table-striped table-bordered table-condensed\">\n<thead><tr><th>Arg</th><th>Val</th></tr></thead>\n<thead><tr><th>object</th><th>object</th></tr></thead>\n<tr><td>00 ;</td><td>00 ;</td></tr>\n<tr><td>01 ;</td><td>00 ; 24,16,14</td></tr>\n<tr><td>02 ;</td><td>00 ; 48,31,31</td></tr>\n<tr><td>03 ;</td><td>01 ; 12,46,15</td></tr>\n<tr><td>04 ;</td><td>01 ; 36,59,26</td></tr>\n<tr><td>05 ;</td><td>02 ; 01,12,38</td></tr>\n<tr><td>06 ;</td><td>02 ; 25,22,23</td></tr>\n<tr><td>07 ;</td><td>02 ; 49,30,13</td></tr>\n<tr><td>08 ;</td><td>03 ; 13,35,19</td></tr>\n<tr><td>09 ;</td><td>03 ; 37,39,20</td></tr>\n<tr><td>...</td><td>...</td></tr>\n<tr><td>01,21 ;</td><td>23 ; 32,40,53</td></tr>\n<tr><td>01,22 ;</td><td>23 ; 36,35,12</td></tr>\n<tr><td>01,23 ;</td><td>23 ; 40,02,26</td></tr>\n<tr><td>01,24 ;</td><td>23 ; 43,02,35</td></tr>\n<tr><td>01,25 ;</td><td>23 ; 45,34,38</td></tr>\n<tr><td>01,26 ;</td><td>23 ; 47,38,33</td></tr>\n<tr><td>01,27 ;</td><td>23 ; 49,15,24</td></tr>\n<tr><td>01,28 ;</td><td>23 ; 50,25,10</td></tr>\n<tr><td>01,29 ;</td><td>23 ; 51,06,49</td></tr>\n<tr><td>01,30 ;</td><td>23 ; 51,20,22</td></tr>\n</table>"
     },
     "metadata": {},
     "execution_count": 7
    }
   ],
   "source": [
    "# Finally, we apply arcsin_table.get on every obl_table values to find decl_table = arcsin(obltable)\n",
    "\n",
    "decl_table = obl_table.apply(\"Val\", arcsin_table.get)\n",
    "decl_table"
   ]
  },
  {
   "cell_type": "code",
   "execution_count": 8,
   "metadata": {},
   "outputs": [
    {
     "output_type": "execute_result",
     "data": {
      "text/plain": [
       "<HTable length=11>\n",
       "  Arg         Val     \n",
       " object      object   \n",
       "-------- -------------\n",
       "   00 ;  00 ; 00,00,00\n",
       "   12 ;  00 ; 12,28,29\n",
       "   24 ;  00 ; 24,24,15\n",
       "   36 ;  00 ; 35,16,02\n",
       "   48 ;  00 ; 44,35,19\n",
       "01,00 ;  00 ; 51,57,41\n",
       "01,06 ;  00 ; 54,48,46\n",
       "01,12 ;  00 ; 57,03,48\n",
       "01,18 ;  00 ; 58,41,20\n",
       "01,24 ;  00 ; 59,40,17\n",
       "01,30 ;  01 ; 00,00,00"
      ],
      "text/html": "<i>HTable length=11</i>\n<table id=\"table139778649816512\" class=\"table-striped table-bordered table-condensed\">\n<thead><tr><th>Arg</th><th>Val</th></tr></thead>\n<thead><tr><th>object</th><th>object</th></tr></thead>\n<tr><td>00 ;</td><td>00 ; 00,00,00</td></tr>\n<tr><td>12 ;</td><td>00 ; 12,28,29</td></tr>\n<tr><td>24 ;</td><td>00 ; 24,24,15</td></tr>\n<tr><td>36 ;</td><td>00 ; 35,16,02</td></tr>\n<tr><td>48 ;</td><td>00 ; 44,35,19</td></tr>\n<tr><td>01,00 ;</td><td>00 ; 51,57,41</td></tr>\n<tr><td>01,06 ;</td><td>00 ; 54,48,46</td></tr>\n<tr><td>01,12 ;</td><td>00 ; 57,03,48</td></tr>\n<tr><td>01,18 ;</td><td>00 ; 58,41,20</td></tr>\n<tr><td>01,24 ;</td><td>00 ; 59,40,17</td></tr>\n<tr><td>01,30 ;</td><td>01 ; 00,00,00</td></tr>\n</table>"
     },
     "metadata": {},
     "execution_count": 8
    }
   ],
   "source": [
    "# Let's make the same calculation with an interpolated sine table.\n",
    "\n",
    "# First, extract every 12th row until the 60th then every 6th.\n",
    "\n",
    "sin_table_grid = sin_table[\n",
    "    [i for i in range(91) if i <= 60 and i % 12 == 0 or i > 60 and i % 6 == 0]\n",
    "]\n",
    "\n",
    "sin_table_grid"
   ]
  },
  {
   "cell_type": "code",
   "execution_count": 9,
   "metadata": {},
   "outputs": [
    {
     "output_type": "execute_result",
     "data": {
      "text/plain": [
       "<HTable length=91>\n",
       "  Arg         Val     \n",
       " object      object   \n",
       "-------- -------------\n",
       "   00 ;  00 ; 00,00,00\n",
       "   01 ;  00 ; 01,02,22\n",
       "   02 ;  00 ; 02,04,45\n",
       "   03 ;  00 ; 03,07,07\n",
       "   04 ;  00 ; 04,09,30\n",
       "   05 ;  00 ; 05,11,52\n",
       "   06 ;  00 ; 06,14,15\n",
       "   07 ;  00 ; 07,16,37\n",
       "   08 ;  00 ; 08,18,59\n",
       "   09 ;  00 ; 09,21,22\n",
       "     ...           ...\n",
       "01,21 ;  00 ; 59,10,49\n",
       "01,22 ;  00 ; 59,20,38\n",
       "01,23 ;  00 ; 59,30,28\n",
       "01,24 ;  00 ; 59,40,17\n",
       "01,25 ;  00 ; 59,43,34\n",
       "01,26 ;  00 ; 59,46,51\n",
       "01,27 ;  00 ; 59,50,09\n",
       "01,28 ;  00 ; 59,53,26\n",
       "01,29 ;  00 ; 59,56,43\n",
       "01,30 ;  01 ; 00,00,00"
      ],
      "text/html": "<i>HTable length=91</i>\n<table id=\"table139778646346288\" class=\"table-striped table-bordered table-condensed\">\n<thead><tr><th>Arg</th><th>Val</th></tr></thead>\n<thead><tr><th>object</th><th>object</th></tr></thead>\n<tr><td>00 ;</td><td>00 ; 00,00,00</td></tr>\n<tr><td>01 ;</td><td>00 ; 01,02,22</td></tr>\n<tr><td>02 ;</td><td>00 ; 02,04,45</td></tr>\n<tr><td>03 ;</td><td>00 ; 03,07,07</td></tr>\n<tr><td>04 ;</td><td>00 ; 04,09,30</td></tr>\n<tr><td>05 ;</td><td>00 ; 05,11,52</td></tr>\n<tr><td>06 ;</td><td>00 ; 06,14,15</td></tr>\n<tr><td>07 ;</td><td>00 ; 07,16,37</td></tr>\n<tr><td>08 ;</td><td>00 ; 08,18,59</td></tr>\n<tr><td>09 ;</td><td>00 ; 09,21,22</td></tr>\n<tr><td>...</td><td>...</td></tr>\n<tr><td>01,21 ;</td><td>00 ; 59,10,49</td></tr>\n<tr><td>01,22 ;</td><td>00 ; 59,20,38</td></tr>\n<tr><td>01,23 ;</td><td>00 ; 59,30,28</td></tr>\n<tr><td>01,24 ;</td><td>00 ; 59,40,17</td></tr>\n<tr><td>01,25 ;</td><td>00 ; 59,43,34</td></tr>\n<tr><td>01,26 ;</td><td>00 ; 59,46,51</td></tr>\n<tr><td>01,27 ;</td><td>00 ; 59,50,09</td></tr>\n<tr><td>01,28 ;</td><td>00 ; 59,53,26</td></tr>\n<tr><td>01,29 ;</td><td>00 ; 59,56,43</td></tr>\n<tr><td>01,30 ;</td><td>01 ; 00,00,00</td></tr>\n</table>"
     },
     "metadata": {},
     "execution_count": 9
    }
   ],
   "source": [
    "# We can populate it with its interpolation method.\n",
    "\n",
    "sin_table_pop = sin_table_grid.populate(list(Sexagesimal.range(91)), method=\"interpolate\")\n",
    "\n",
    "sin_table_pop"
   ]
  },
  {
   "cell_type": "code",
   "execution_count": 10,
   "metadata": {},
   "outputs": [
    {
     "output_type": "execute_result",
     "data": {
      "text/plain": [
       "<HTable length=91>\n",
       "  Arg    True Sine 2-diff Interpolated Sine 2-diff\n",
       " object       object               object         \n",
       "-------- ---------------- ------------------------\n",
       "   00 ;     00 ; 00,00,00            00 ; 00,00,00\n",
       "   01 ;     00 ; 01,02,50            00 ; 01,02,22\n",
       "   02 ;    -00 ; 00,00,02            00 ; 00,00,01\n",
       "   03 ;    -00 ; 00,00,01           -00 ; 00,00,01\n",
       "   04 ;    -00 ; 00,00,05            00 ; 00,00,01\n",
       "   05 ;    -00 ; 00,00,03           -00 ; 00,00,01\n",
       "   06 ;    -00 ; 00,00,07            00 ; 00,00,01\n",
       "   07 ;    -00 ; 00,00,06           -00 ; 00,00,01\n",
       "   08 ;    -00 ; 00,00,09            00 ; 00,00,00\n",
       "   09 ;    -00 ; 00,00,08            00 ; 00,00,01\n",
       "     ...              ...                      ...\n",
       "01,21 ;    -00 ; 00,01,04            00 ; 00,00,01\n",
       "01,22 ;    -00 ; 00,01,06           -00 ; 00,00,01\n",
       "01,23 ;    -00 ; 00,01,05            00 ; 00,00,01\n",
       "01,24 ;    -00 ; 00,01,05           -00 ; 00,00,01\n",
       "01,25 ;    -00 ; 00,01,06           -00 ; 00,06,32\n",
       "01,26 ;    -00 ; 00,01,05            00 ; 00,00,00\n",
       "01,27 ;    -00 ; 00,01,06            00 ; 00,00,01\n",
       "01,28 ;    -00 ; 00,01,06           -00 ; 00,00,01\n",
       "01,29 ;    -00 ; 00,01,05            00 ; 00,00,00\n",
       "01,30 ;    -00 ; 00,01,06            00 ; 00,00,00"
      ],
      "text/html": "<i>HTable length=91</i>\n<table id=\"table139778646430480\" class=\"table-striped table-bordered table-condensed\">\n<thead><tr><th>Arg</th><th>True Sine 2-diff</th><th>Interpolated Sine 2-diff</th></tr></thead>\n<thead><tr><th>object</th><th>object</th><th>object</th></tr></thead>\n<tr><td>00 ;</td><td>00 ; 00,00,00</td><td>00 ; 00,00,00</td></tr>\n<tr><td>01 ;</td><td>00 ; 01,02,50</td><td>00 ; 01,02,22</td></tr>\n<tr><td>02 ;</td><td>-00 ; 00,00,02</td><td>00 ; 00,00,01</td></tr>\n<tr><td>03 ;</td><td>-00 ; 00,00,01</td><td>-00 ; 00,00,01</td></tr>\n<tr><td>04 ;</td><td>-00 ; 00,00,05</td><td>00 ; 00,00,01</td></tr>\n<tr><td>05 ;</td><td>-00 ; 00,00,03</td><td>-00 ; 00,00,01</td></tr>\n<tr><td>06 ;</td><td>-00 ; 00,00,07</td><td>00 ; 00,00,01</td></tr>\n<tr><td>07 ;</td><td>-00 ; 00,00,06</td><td>-00 ; 00,00,01</td></tr>\n<tr><td>08 ;</td><td>-00 ; 00,00,09</td><td>00 ; 00,00,00</td></tr>\n<tr><td>09 ;</td><td>-00 ; 00,00,08</td><td>00 ; 00,00,01</td></tr>\n<tr><td>...</td><td>...</td><td>...</td></tr>\n<tr><td>01,21 ;</td><td>-00 ; 00,01,04</td><td>00 ; 00,00,01</td></tr>\n<tr><td>01,22 ;</td><td>-00 ; 00,01,06</td><td>-00 ; 00,00,01</td></tr>\n<tr><td>01,23 ;</td><td>-00 ; 00,01,05</td><td>00 ; 00,00,01</td></tr>\n<tr><td>01,24 ;</td><td>-00 ; 00,01,05</td><td>-00 ; 00,00,01</td></tr>\n<tr><td>01,25 ;</td><td>-00 ; 00,01,06</td><td>-00 ; 00,06,32</td></tr>\n<tr><td>01,26 ;</td><td>-00 ; 00,01,05</td><td>00 ; 00,00,00</td></tr>\n<tr><td>01,27 ;</td><td>-00 ; 00,01,06</td><td>00 ; 00,00,01</td></tr>\n<tr><td>01,28 ;</td><td>-00 ; 00,01,06</td><td>-00 ; 00,00,01</td></tr>\n<tr><td>01,29 ;</td><td>-00 ; 00,01,05</td><td>00 ; 00,00,00</td></tr>\n<tr><td>01,30 ;</td><td>-00 ; 00,01,06</td><td>00 ; 00,00,00</td></tr>\n</table>"
     },
     "metadata": {},
     "execution_count": 10
    }
   ],
   "source": [
    "# Comparing the 2nd difference between the true sine table and the interpolated one.\n",
    "\n",
    "true_2diff = sin_table.diff(n=2, new_name=\"True Sine 2-diff\")\n",
    "interpolated_2diff = sin_table_pop.diff(n=2, new_name=\"Interpolated Sine 2-diff\")\n",
    "\n",
    "# Now we have 2 tables with the same arguments. We can compare them side to side by joining them.\n",
    "\n",
    "astropy.table.join(true_2diff, interpolated_2diff)"
   ]
  },
  {
   "cell_type": "code",
   "execution_count": 11,
   "metadata": {},
   "outputs": [
    {
     "output_type": "execute_result",
     "data": {
      "text/plain": [
       "<HTable length=91>\n",
       "  Arg         Val     \n",
       " object      object   \n",
       "-------- -------------\n",
       "   00 ;          00 ; \n",
       "   01 ;  00 ; 24,15,35\n",
       "   02 ;  00 ; 48,32,08\n",
       "   03 ;  01 ; 12,47,31\n",
       "   04 ;  01 ; 37,03,40\n",
       "   05 ;  02 ; 01,19,51\n",
       "   06 ;  02 ; 25,35,26\n",
       "   07 ;  02 ; 49,51,59\n",
       "   08 ;  03 ; 14,07,21\n",
       "   09 ;  03 ; 38,23,30\n",
       "     ...           ...\n",
       "01,21 ;  23 ; 31,38,04\n",
       "01,22 ;  23 ; 35,37,28\n",
       "01,23 ;  23 ; 39,36,52\n",
       "01,24 ;  23 ; 43,37,16\n",
       "01,25 ;  23 ; 44,56,44\n",
       "01,26 ;  23 ; 46,17,12\n",
       "01,27 ;  23 ; 47,37,40\n",
       "01,28 ;  23 ; 48,58,08\n",
       "01,29 ;  23 ; 50,17,36\n",
       "01,30 ;  23 ; 51,38,04"
      ],
      "text/html": "<i>HTable length=91</i>\n<table id=\"table139778646945360\" class=\"table-striped table-bordered table-condensed\">\n<thead><tr><th>Arg</th><th>Val</th></tr></thead>\n<thead><tr><th>object</th><th>object</th></tr></thead>\n<tr><td>00 ;</td><td>00 ;</td></tr>\n<tr><td>01 ;</td><td>00 ; 24,15,35</td></tr>\n<tr><td>02 ;</td><td>00 ; 48,32,08</td></tr>\n<tr><td>03 ;</td><td>01 ; 12,47,31</td></tr>\n<tr><td>04 ;</td><td>01 ; 37,03,40</td></tr>\n<tr><td>05 ;</td><td>02 ; 01,19,51</td></tr>\n<tr><td>06 ;</td><td>02 ; 25,35,26</td></tr>\n<tr><td>07 ;</td><td>02 ; 49,51,59</td></tr>\n<tr><td>08 ;</td><td>03 ; 14,07,21</td></tr>\n<tr><td>09 ;</td><td>03 ; 38,23,30</td></tr>\n<tr><td>...</td><td>...</td></tr>\n<tr><td>01,21 ;</td><td>23 ; 31,38,04</td></tr>\n<tr><td>01,22 ;</td><td>23 ; 35,37,28</td></tr>\n<tr><td>01,23 ;</td><td>23 ; 39,36,52</td></tr>\n<tr><td>01,24 ;</td><td>23 ; 43,37,16</td></tr>\n<tr><td>01,25 ;</td><td>23 ; 44,56,44</td></tr>\n<tr><td>01,26 ;</td><td>23 ; 46,17,12</td></tr>\n<tr><td>01,27 ;</td><td>23 ; 47,37,40</td></tr>\n<tr><td>01,28 ;</td><td>23 ; 48,58,08</td></tr>\n<tr><td>01,29 ;</td><td>23 ; 50,17,36</td></tr>\n<tr><td>01,30 ;</td><td>23 ; 51,38,04</td></tr>\n</table>"
     },
     "metadata": {},
     "execution_count": 11
    }
   ],
   "source": [
    "# With this newly built table we are able to construct a new declination table.\n",
    "\n",
    "obl_interp = sin_table_pop.get(Sexagesimal(OBLIQUITY))\n",
    "\n",
    "obl_table_interp = sin_table_pop.apply(\"Val\", lambda x: x * obl)\n",
    "arcsin_table_interp = sin_table_pop.copy(set_index=\"Val\")\n",
    "\n",
    "obl_table_interp.apply(\"Val\", arcsin_table_interp.get)"
   ]
  }
 ],
 "metadata": {
  "kernelspec": {
   "display_name": "Python 3",
   "language": "python",
   "name": "python3"
  },
  "language_info": {
   "codemirror_mode": {
    "name": "ipython",
    "version": 3
   },
   "file_extension": ".py",
   "mimetype": "text/x-python",
   "name": "python",
   "nbconvert_exporter": "python",
   "pygments_lexer": "ipython3",
   "version": "3.9.0-final"
  }
 },
 "nbformat": 4,
 "nbformat_minor": 4
}
