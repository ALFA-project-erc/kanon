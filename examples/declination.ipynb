{
 "cells": [
  {
   "cell_type": "code",
   "execution_count": 1,
   "metadata": {},
   "outputs": [],
   "source": [
    "from kanon.units import Sexagesimal\n",
    "from kanon.tables.symmetries import Symmetry\n",
    "from kanon.tables import HTable\n",
    "import math"
   ]
  },
  {
   "cell_type": "code",
   "execution_count": 2,
   "metadata": {},
   "outputs": [],
   "source": [
    "# For these calculations we will round after every operations\n",
    "\n",
    "from kanon.units.precision import get_context, TruncatureMode, PrecisionMode\n",
    "get_context().mutate(tmode=TruncatureMode.ROUND, pmode=PrecisionMode.MAX)\n"
   ]
  },
  {
   "cell_type": "code",
   "execution_count": 3,
   "metadata": {
    "tags": [
     "parameters"
    ]
   },
   "outputs": [],
   "source": [
    "OBLIQUITY = \"23;51,20\""
   ]
  },
  {
   "cell_type": "code",
   "execution_count": 4,
   "metadata": {},
   "outputs": [
    {
     "output_type": "execute_result",
     "data": {
      "text/plain": [
       "<HTable length=91>\n",
       "  Arg         Val     \n",
       " object      object   \n",
       "-------- -------------\n",
       "   00 ;  00 ; 00,00,00\n",
       "   01 ;  00 ; 00,25,25\n",
       "   02 ;  00 ; 00,50,49\n",
       "   03 ;  00 ; 01,16,12\n",
       "   04 ;  00 ; 01,41,34\n",
       "   05 ;  00 ; 02,06,54\n",
       "   06 ;  00 ; 02,32,12\n",
       "   07 ;  00 ; 02,57,27\n",
       "   08 ;  00 ; 03,22,38\n",
       "   09 ;  00 ; 03,47,47\n",
       "     ...           ...\n",
       "01,21 ;  00 ; 23,58,08\n",
       "01,22 ;  00 ; 24,01,53\n",
       "01,23 ;  00 ; 24,05,12\n",
       "01,24 ;  00 ; 24,08,05\n",
       "01,25 ;  00 ; 24,10,31\n",
       "01,26 ;  00 ; 24,12,31\n",
       "01,27 ;  00 ; 24,14,04\n",
       "01,28 ;  00 ; 24,15,10\n",
       "01,29 ;  00 ; 24,15,50\n",
       "01,30 ;  00 ; 24,16,03"
      ],
      "text/html": "<i>HTable length=91</i>\n<table id=\"table140595589235472\" class=\"table-striped table-bordered table-condensed\">\n<thead><tr><th>Arg</th><th>Val</th></tr></thead>\n<thead><tr><th>object</th><th>object</th></tr></thead>\n<tr><td>00 ;</td><td>00 ; 00,00,00</td></tr>\n<tr><td>01 ;</td><td>00 ; 00,25,25</td></tr>\n<tr><td>02 ;</td><td>00 ; 00,50,49</td></tr>\n<tr><td>03 ;</td><td>00 ; 01,16,12</td></tr>\n<tr><td>04 ;</td><td>00 ; 01,41,34</td></tr>\n<tr><td>05 ;</td><td>00 ; 02,06,54</td></tr>\n<tr><td>06 ;</td><td>00 ; 02,32,12</td></tr>\n<tr><td>07 ;</td><td>00 ; 02,57,27</td></tr>\n<tr><td>08 ;</td><td>00 ; 03,22,38</td></tr>\n<tr><td>09 ;</td><td>00 ; 03,47,47</td></tr>\n<tr><td>...</td><td>...</td></tr>\n<tr><td>01,21 ;</td><td>00 ; 23,58,08</td></tr>\n<tr><td>01,22 ;</td><td>00 ; 24,01,53</td></tr>\n<tr><td>01,23 ;</td><td>00 ; 24,05,12</td></tr>\n<tr><td>01,24 ;</td><td>00 ; 24,08,05</td></tr>\n<tr><td>01,25 ;</td><td>00 ; 24,10,31</td></tr>\n<tr><td>01,26 ;</td><td>00 ; 24,12,31</td></tr>\n<tr><td>01,27 ;</td><td>00 ; 24,14,04</td></tr>\n<tr><td>01,28 ;</td><td>00 ; 24,15,10</td></tr>\n<tr><td>01,29 ;</td><td>00 ; 24,15,50</td></tr>\n<tr><td>01,30 ;</td><td>00 ; 24,16,03</td></tr>\n</table>"
     },
     "metadata": {},
     "execution_count": 4
    }
   ],
   "source": [
    "# We construct a table of sine from 0 to 90\n",
    "\n",
    "sin_table = HTable([\n",
    "    [Sexagesimal.from_int(x) for x in range(91)],\n",
    "    [round(Sexagesimal.from_float(math.sin(x * math.pi / 180), 3)) for x in range(91)]\n",
    "], names=(\"Arg\", \"Val\"), index=\"Arg\")\n",
    "\n",
    "sin_table\n",
    "\n",
    "# We apply a multiplication on all the sine values to get obl_table = Sin(x) * obl\n",
    "\n",
    "obl = math.sin(Sexagesimal(OBLIQUITY) * math.pi / 180)\n",
    "\n",
    "obl_table = sin_table.apply(\"Val\", lambda x: x * obl)\n",
    "obl_table\n"
   ]
  },
  {
   "cell_type": "code",
   "execution_count": 5,
   "metadata": {},
   "outputs": [
    {
     "output_type": "execute_result",
     "data": {
      "text/plain": [
       "17 ; 27,29,49,59"
      ]
     },
     "metadata": {},
     "execution_count": 5
    }
   ],
   "source": [
    "# Arcsin is sin_table taken from Val to Arg instead of Arg to Val\n",
    "\n",
    "arcsin_table = sin_table.copy(set_index=\"Val\")\n",
    "\n",
    "# For example, if we want arcsin(0.3) :\n",
    "\n",
    "arcsin_table.get(0.3)\n"
   ]
  },
  {
   "cell_type": "code",
   "execution_count": 6,
   "metadata": {},
   "outputs": [
    {
     "output_type": "execute_result",
     "data": {
      "text/plain": [
       "<HTable length=91>\n",
       "  Arg         Val     \n",
       " object      object   \n",
       "-------- -------------\n",
       "   00 ;          00 ; \n",
       "   01 ;  00 ; 24,16,14\n",
       "   02 ;  00 ; 48,31,31\n",
       "   03 ;  01 ; 12,46,15\n",
       "   04 ;  01 ; 37,00,23\n",
       "   05 ;  02 ; 01,12,38\n",
       "   06 ;  02 ; 25,23,20\n",
       "   07 ;  02 ; 49,31,10\n",
       "   08 ;  03 ; 13,36,16\n",
       "   09 ;  03 ; 37,40,17\n",
       "     ...           ...\n",
       "01,21 ;  23 ; 32,48,11\n",
       "01,22 ;  23 ; 36,42,29\n",
       "01,23 ;  23 ; 40,09,43\n",
       "01,24 ;  23 ; 43,09,53\n",
       "01,25 ;  23 ; 45,41,55\n",
       "01,26 ;  23 ; 47,46,53\n",
       "01,27 ;  23 ; 49,23,44\n",
       "01,28 ;  23 ; 50,32,27\n",
       "01,29 ;  23 ; 51,14,07\n",
       "01,30 ;  23 ; 51,27,39"
      ],
      "text/html": "<i>HTable length=91</i>\n<table id=\"table140596786062960\" class=\"table-striped table-bordered table-condensed\">\n<thead><tr><th>Arg</th><th>Val</th></tr></thead>\n<thead><tr><th>object</th><th>object</th></tr></thead>\n<tr><td>00 ;</td><td>00 ;</td></tr>\n<tr><td>01 ;</td><td>00 ; 24,16,14</td></tr>\n<tr><td>02 ;</td><td>00 ; 48,31,31</td></tr>\n<tr><td>03 ;</td><td>01 ; 12,46,15</td></tr>\n<tr><td>04 ;</td><td>01 ; 37,00,23</td></tr>\n<tr><td>05 ;</td><td>02 ; 01,12,38</td></tr>\n<tr><td>06 ;</td><td>02 ; 25,23,20</td></tr>\n<tr><td>07 ;</td><td>02 ; 49,31,10</td></tr>\n<tr><td>08 ;</td><td>03 ; 13,36,16</td></tr>\n<tr><td>09 ;</td><td>03 ; 37,40,17</td></tr>\n<tr><td>...</td><td>...</td></tr>\n<tr><td>01,21 ;</td><td>23 ; 32,48,11</td></tr>\n<tr><td>01,22 ;</td><td>23 ; 36,42,29</td></tr>\n<tr><td>01,23 ;</td><td>23 ; 40,09,43</td></tr>\n<tr><td>01,24 ;</td><td>23 ; 43,09,53</td></tr>\n<tr><td>01,25 ;</td><td>23 ; 45,41,55</td></tr>\n<tr><td>01,26 ;</td><td>23 ; 47,46,53</td></tr>\n<tr><td>01,27 ;</td><td>23 ; 49,23,44</td></tr>\n<tr><td>01,28 ;</td><td>23 ; 50,32,27</td></tr>\n<tr><td>01,29 ;</td><td>23 ; 51,14,07</td></tr>\n<tr><td>01,30 ;</td><td>23 ; 51,27,39</td></tr>\n</table>"
     },
     "metadata": {},
     "execution_count": 6
    }
   ],
   "source": [
    "# Finally, we apply arcsin_table.get on every obl_table values to find decl_table = arcsin(obltable)\n",
    "\n",
    "decl_table = obl_table.apply(\"Val\", lambda x: arcsin_table.get(x))\n",
    "decl_table"
   ]
  }
 ],
 "metadata": {
  "kernelspec": {
   "display_name": "Python 3",
   "language": "python",
   "name": "python3"
  },
  "language_info": {
   "codemirror_mode": {
    "name": "ipython",
    "version": 3
   },
   "file_extension": ".py",
   "mimetype": "text/x-python",
   "name": "python",
   "nbconvert_exporter": "python",
   "pygments_lexer": "ipython3",
   "version": "3.9.0-final"
  }
 },
 "nbformat": 4,
 "nbformat_minor": 4
}
