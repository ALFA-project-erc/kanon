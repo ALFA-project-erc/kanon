{
 "metadata": {
  "language_info": {
   "codemirror_mode": {
    "name": "ipython",
    "version": 3
   },
   "file_extension": ".py",
   "mimetype": "text/x-python",
   "name": "python",
   "nbconvert_exporter": "python",
   "pygments_lexer": "ipython3",
   "version": "3.9.0-final"
  },
  "orig_nbformat": 2,
  "kernelspec": {
   "name": "python3",
   "display_name": "Python 3",
   "language": "python"
  }
 },
 "nbformat": 4,
 "nbformat_minor": 2,
 "cells": [
  {
   "cell_type": "code",
   "execution_count": 1,
   "metadata": {},
   "outputs": [],
   "source": [
    "# Imports\n",
    "\n",
    "import numpy as np\n",
    "from kanon.tables import HTable\n",
    "from kanon.units import Sexagesimal\n",
    "from kanon.units.precision import set_precision, TruncatureMode, PrecisionMode\n",
    "import astropy.units as u"
   ]
  },
  {
   "cell_type": "code",
   "execution_count": 2,
   "metadata": {},
   "outputs": [
    {
     "output_type": "execute_result",
     "data": {
      "text/plain": [
       "(2, 14, 35, 4)"
      ]
     },
     "metadata": {},
     "execution_count": 2
    }
   ],
   "source": [
    "# Calcul du jour\n",
    "# 3 Juillet 1327\n",
    "\n",
    "year = 1327\n",
    "month = 7\n",
    "day = 3\n",
    "\n",
    "month_days = [31,59,90,120,151,181,212,243,273,304,334,365]\n",
    "\n",
    "def qtsp_from_date(y, m, d):\n",
    "    ndays = int((year-1) * 365.25 + month_days[month-2] + (day - 1))\n",
    "    q, p = divmod(ndays, 60)\n",
    "    q, s = divmod(q, 60)\n",
    "    q, t = divmod(q, 60)\n",
    "    return (q, t, s, p)\n",
    "\n",
    "days = qtsp_from_date(year, month, day)\n",
    "days\n"
   ]
  },
  {
   "cell_type": "code",
   "execution_count": 3,
   "metadata": {},
   "outputs": [],
   "source": [
    "# Définition d'une fonction pour calculer une position à partir d'une table de mouvement moyen\n",
    "\n",
    "def position_from_table(qtsp, tab, radix, zodiac_offset=4, width=9):\n",
    "    # Additions à partir de la racine\n",
    "\n",
    "    result = radix\n",
    "\n",
    "    # Additions à partir des jours\n",
    "    with set_precision(pmode=PrecisionMode.MAX):\n",
    "        for i, v in enumerate(qtsp):\n",
    "            result += tab.get(v) >> i + zodiac_offset\n",
    "\n",
    "    # Conversion en quantité degrés avec signe zodiaque\n",
    "\n",
    "    result %= Sexagesimal(6, 0) * u.degree\n",
    "    return result"
   ]
  },
  {
   "cell_type": "code",
   "execution_count": 4,
   "metadata": {},
   "outputs": [
    {
     "output_type": "execute_result",
     "data": {
      "text/plain": [
       "<HTable length=60>\n",
       " Days           Entries          \n",
       "  d               deg            \n",
       "object           object          \n",
       "------ --------------------------\n",
       "     1    59,08,19,37,19,13,56 ; \n",
       "     2 01,58,16,39,14,38,27,52 ; \n",
       "     3 02,57,24,58,51,57,41,48 ; \n",
       "     4 03,56,33,18,29,16,55,44 ; \n",
       "     5 04,55,41,38,06,36,09,40 ; \n",
       "     6 05,54,49,57,43,55,23,36 ; \n",
       "     7 06,53,58,17,21,14,37,32 ; \n",
       "     8 07,53,06,36,58,33,51,28 ; \n",
       "     9 08,52,14,56,35,53,05,24 ; \n",
       "   ...                        ...\n",
       "    51 50,16,04,40,43,20,50,36 ; \n",
       "    52 51,15,13,00,20,40,04,32 ; \n",
       "    53 52,14,21,19,57,59,18,28 ; \n",
       "    54 53,13,29,39,35,18,32,24 ; \n",
       "    55 54,12,37,59,12,37,46,20 ; \n",
       "    56 55,11,46,18,49,57,00,16 ; \n",
       "    57 56,10,54,38,27,16,14,12 ; \n",
       "    58 57,10,02,58,04,35,28,08 ; \n",
       "    59 58,09,11,17,41,54,42,04 ; \n",
       "    60 59,08,19,37,19,13,56,00 ; "
      ],
      "text/html": "<i>HTable length=60</i>\n<table id=\"table139631195373968\" class=\"table-striped table-bordered table-condensed\">\n<thead><tr><th>Days</th><th>Entries</th></tr></thead>\n<thead><tr><th>d</th><th>deg</th></tr></thead>\n<thead><tr><th>object</th><th>object</th></tr></thead>\n<tr><td>1</td><td>59,08,19,37,19,13,56 ;</td></tr>\n<tr><td>2</td><td>01,58,16,39,14,38,27,52 ;</td></tr>\n<tr><td>3</td><td>02,57,24,58,51,57,41,48 ;</td></tr>\n<tr><td>4</td><td>03,56,33,18,29,16,55,44 ;</td></tr>\n<tr><td>5</td><td>04,55,41,38,06,36,09,40 ;</td></tr>\n<tr><td>6</td><td>05,54,49,57,43,55,23,36 ;</td></tr>\n<tr><td>7</td><td>06,53,58,17,21,14,37,32 ;</td></tr>\n<tr><td>8</td><td>07,53,06,36,58,33,51,28 ;</td></tr>\n<tr><td>9</td><td>08,52,14,56,35,53,05,24 ;</td></tr>\n<tr><td>...</td><td>...</td></tr>\n<tr><td>51</td><td>50,16,04,40,43,20,50,36 ;</td></tr>\n<tr><td>52</td><td>51,15,13,00,20,40,04,32 ;</td></tr>\n<tr><td>53</td><td>52,14,21,19,57,59,18,28 ;</td></tr>\n<tr><td>54</td><td>53,13,29,39,35,18,32,24 ;</td></tr>\n<tr><td>55</td><td>54,12,37,59,12,37,46,20 ;</td></tr>\n<tr><td>56</td><td>55,11,46,18,49,57,00,16 ;</td></tr>\n<tr><td>57</td><td>56,10,54,38,27,16,14,12 ;</td></tr>\n<tr><td>58</td><td>57,10,02,58,04,35,28,08 ;</td></tr>\n<tr><td>59</td><td>58,09,11,17,41,54,42,04 ;</td></tr>\n<tr><td>60</td><td>59,08,19,37,19,13,56,00 ;</td></tr>\n</table>"
     },
     "metadata": {},
     "execution_count": 4
    }
   ],
   "source": [
    "# Position moyenne du soleil\n",
    "\n",
    "# Lecture de la table depuis DISHAS\n",
    "tab_mean_motion = HTable.read(193, format=\"dishas\")\n",
    "tab_mean_motion"
   ]
  },
  {
   "cell_type": "code",
   "execution_count": 5,
   "metadata": {},
   "outputs": [
    {
     "output_type": "execute_result",
     "data": {
      "text/plain": [
       "<BasedQuantity 01,47 ; 58,21,32,17,28,35,44 deg>"
      ],
      "text/latex": "$01,47 ; 58,21,32,17,28,35,44 \\; \\mathrm{{}^{\\circ}}$"
     },
     "metadata": {},
     "execution_count": 5
    }
   ],
   "source": [
    "# Calcul de la position moyenne à partir des jours, de la table, et de la racine\n",
    "\n",
    "mean_sun_pos = position_from_table(days, tab_mean_motion, Sexagesimal(\"4,38;21,0,30,28\") * u.degree)\n",
    "mean_sun_pos"
   ]
  },
  {
   "cell_type": "code",
   "execution_count": 6,
   "metadata": {},
   "outputs": [
    {
     "output_type": "execute_result",
     "data": {
      "text/plain": [
       "<BasedQuantity 09 ; 44,44,33,52,35,08,48 deg>"
      ],
      "text/latex": "$09 ; 44,44,33,52,35,08,48 \\; \\mathrm{{}^{\\circ}}$"
     },
     "metadata": {},
     "execution_count": 6
    }
   ],
   "source": [
    "# Étoiles fixes\n",
    "\n",
    "tab_fixed_stars = HTable.read(236, format=\"dishas\")\n",
    "\n",
    "mean_fixed_star_pos = position_from_table(days, tab_fixed_stars, 0)\n",
    "mean_fixed_star_pos"
   ]
  },
  {
   "cell_type": "code",
   "execution_count": 7,
   "metadata": {},
   "outputs": [
    {
     "output_type": "execute_result",
     "data": {
      "text/plain": [
       "<BasedQuantity 01,07 ; 25,45,56,14,16 deg>"
      ],
      "text/latex": "$01,07 ; 25,45,56,14,16 \\; \\mathrm{{}^{\\circ}}$"
     },
     "metadata": {},
     "execution_count": 7
    }
   ],
   "source": [
    "# Accès et recès, auge\n",
    "\n",
    "tab_access_recess = HTable.read(237, format=\"dishas\")\n",
    "\n",
    "access_recess_pos = position_from_table(days, tab_access_recess, Sexagesimal(\"5,59;12,34\")*u.degree, zodiac_offset=2, width=7)\n",
    "access_recess_pos"
   ]
  },
  {
   "cell_type": "code",
   "execution_count": 8,
   "metadata": {},
   "outputs": [
    {
     "output_type": "execute_result",
     "data": {
      "text/plain": [
       "<BasedQuantity 08 ; 18,18,36,54,20 deg>"
      ],
      "text/latex": "$08 ; 18,18,36,54,20 \\; \\mathrm{{}^{\\circ}}$"
     },
     "metadata": {},
     "execution_count": 8
    }
   ],
   "source": [
    "# Équation accès et recès\n",
    "\n",
    "tab_eq_access_recess = HTable.read(238, format=\"dishas\")\n",
    "\n",
    "with set_precision(pmode=PrecisionMode.MAX, tmode=TruncatureMode.ROUND):\n",
    "    eq_access_recess = tab_eq_access_recess.get(access_recess_pos.value)\n",
    "eq_access_recess"
   ]
  },
  {
   "cell_type": "code",
   "execution_count": 9,
   "metadata": {},
   "outputs": [
    {
     "output_type": "execute_result",
     "data": {
      "text/plain": [
       "<BasedQuantity 01,29 ; 28,26,10,46,55,08,48 deg>"
      ],
      "text/latex": "$01,29 ; 28,26,10,46,55,08,48 \\; \\mathrm{{}^{\\circ}}$"
     },
     "metadata": {},
     "execution_count": 9
    }
   ],
   "source": [
    "# Apogée du soleil\n",
    "with set_precision(pmode=PrecisionMode.MAX, tmode=TruncatureMode.ROUND):\n",
    "    solar_apogee_pos = mean_fixed_star_pos + eq_access_recess + Sexagesimal(\"1,11;25,23\") * u.degree\n",
    "solar_apogee_pos"
   ]
  },
  {
   "cell_type": "code",
   "execution_count": 10,
   "metadata": {},
   "outputs": [
    {
     "output_type": "execute_result",
     "data": {
      "text/plain": [
       "<BasedQuantity 18 ; 29,55,21,30,33,26,56 deg>"
      ],
      "text/latex": "$18 ; 29,55,21,30,33,26,56 \\; \\mathrm{{}^{\\circ}}$"
     },
     "metadata": {},
     "execution_count": 10
    }
   ],
   "source": [
    "# Argument moyen du soleil\n",
    "with set_precision(pmode=PrecisionMode.MAX, tmode=TruncatureMode.ROUND):\n",
    "    mean_arg_sun = mean_sun_pos + (Sexagesimal(6,0) * u.degree if mean_sun_pos < solar_apogee_pos else 0) - solar_apogee_pos\n",
    "mean_arg_sun"
   ]
  },
  {
   "cell_type": "code",
   "execution_count": 11,
   "metadata": {},
   "outputs": [
    {
     "output_type": "execute_result",
     "data": {
      "text/plain": [
       "<BasedQuantity 00 ; 39,33,20,10,31,40,48 deg>"
      ],
      "text/latex": "$00 ; 39,33,20,10,31,40,48 \\; \\mathrm{{}^{\\circ}}$"
     },
     "metadata": {},
     "execution_count": 11
    }
   ],
   "source": [
    "# Équation du soleil\n",
    "\n",
    "tab_eq_sun = HTable.read(19, format=\"dishas\")\n",
    "with set_precision(pmode=PrecisionMode.MAX, tmode=TruncatureMode.ROUND):\n",
    "    eq_sun = tab_eq_sun.get(mean_arg_sun.value)\n",
    "eq_sun"
   ]
  },
  {
   "cell_type": "code",
   "execution_count": 12,
   "metadata": {},
   "outputs": [
    {
     "output_type": "execute_result",
     "data": {
      "text/plain": [
       "<BasedQuantity 01,47 ; 18,49 deg>"
      ],
      "text/latex": "$01,47 ; 18,49 \\; \\mathrm{{}^{\\circ}}$"
     },
     "metadata": {},
     "execution_count": 12
    }
   ],
   "source": [
    "# Vraie position du soleil\n",
    "\n",
    "with set_precision(pmode=PrecisionMode.CUSTOM, tmode=TruncatureMode.ROUND, custom_precision=2):\n",
    "    true_pos_sun = mean_sun_pos + (Sexagesimal(6,0) * u.degree if mean_sun_pos < eq_sun else 0) - eq_sun\n",
    "true_pos_sun"
   ]
  }
 ]
}
