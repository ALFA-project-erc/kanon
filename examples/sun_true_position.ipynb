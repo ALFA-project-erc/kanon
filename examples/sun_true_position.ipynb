{
 "cells": [
  {
   "cell_type": "code",
   "execution_count": null,
   "metadata": {},
   "outputs": [],
   "source": [
    "# Imports\n",
    "\n",
    "import numpy as np\n",
    "from kanon.tables import HTable\n",
    "from kanon.units import Sexagesimal\n",
    "from kanon.units.precision import set_precision, TruncatureMode, PrecisionMode\n",
    "import astropy.units as u"
   ]
  },
  {
   "cell_type": "code",
   "execution_count": null,
   "metadata": {
    "tags": [
     "parameters"
    ]
   },
   "outputs": [],
   "source": [
    "# 3 Juillet 1327\n",
    "\n",
    "year = 1327\n",
    "month = 7\n",
    "day = 3"
   ]
  },
  {
   "cell_type": "code",
   "execution_count": null,
   "metadata": {},
   "outputs": [],
   "source": [
    "# Calcul du jour\n",
    "\n",
    "month_days = [31,59,90,120,151,181,212,243,273,304,334,365]\n",
    "\n",
    "def qtsp_from_date(y, m, d):\n",
    "    ndays = int((year-1) * 365.25 + month_days[month-2] + (day - 1))\n",
    "    q, p = divmod(ndays, 60)\n",
    "    q, s = divmod(q, 60)\n",
    "    q, t = divmod(q, 60)\n",
    "    return (q, t, s, p)\n",
    "\n",
    "days = qtsp_from_date(year, month, day)\n",
    "days"
   ]
  },
  {
   "cell_type": "code",
   "execution_count": null,
   "metadata": {},
   "outputs": [],
   "source": [
    "# Définition d'une fonction pour calculer une position à partir d'une table de mouvement moyen\n",
    "\n",
    "def position_from_table(qtsp, tab, radix, zodiac_offset=4, width=9):\n",
    "    # Additions à partir de la racine\n",
    "\n",
    "    result = radix\n",
    "\n",
    "    # Additions à partir des jours\n",
    "    with set_precision(pmode=PrecisionMode.MAX):\n",
    "        for i, v in enumerate(qtsp):\n",
    "            result += tab.get(v) >> i + zodiac_offset\n",
    "\n",
    "    # Conversion en quantité degrés avec signe zodiaque\n",
    "\n",
    "    result %= Sexagesimal(6, 0) * u.degree\n",
    "    return result"
   ]
  },
  {
   "cell_type": "code",
   "execution_count": null,
   "metadata": {},
   "outputs": [],
   "source": [
    "# Position moyenne du soleil\n",
    "\n",
    "# Lecture de la table depuis DISHAS\n",
    "tab_mean_motion = HTable.read(193, format=\"dishas\")\n",
    "tab_mean_motion"
   ]
  },
  {
   "cell_type": "code",
   "execution_count": null,
   "metadata": {},
   "outputs": [],
   "source": [
    "# Calcul de la position moyenne à partir des jours, de la table, et de la racine\n",
    "\n",
    "mean_sun_pos = position_from_table(days, tab_mean_motion, Sexagesimal(\"4,38;21,0,30,28\") * u.degree)\n",
    "mean_sun_pos"
   ]
  },
  {
   "cell_type": "code",
   "execution_count": null,
   "metadata": {},
   "outputs": [],
   "source": [
    "# Étoiles fixes\n",
    "\n",
    "tab_fixed_stars = HTable.read(236, format=\"dishas\")\n",
    "\n",
    "mean_fixed_star_pos = position_from_table(days, tab_fixed_stars, 0)\n",
    "mean_fixed_star_pos"
   ]
  },
  {
   "cell_type": "code",
   "execution_count": null,
   "metadata": {},
   "outputs": [],
   "source": [
    "# Accès et recès, auge\n",
    "\n",
    "tab_access_recess = HTable.read(237, format=\"dishas\")\n",
    "\n",
    "access_recess_pos = position_from_table(days, tab_access_recess, Sexagesimal(\"5,59;12,34\")*u.degree, zodiac_offset=2, width=7)\n",
    "access_recess_pos"
   ]
  },
  {
   "cell_type": "code",
   "execution_count": null,
   "metadata": {},
   "outputs": [],
   "source": [
    "# Équation accès et recès\n",
    "\n",
    "tab_eq_access_recess = HTable.read(238, format=\"dishas\")\n",
    "\n",
    "with set_precision(pmode=PrecisionMode.MAX, tmode=TruncatureMode.ROUND):\n",
    "    eq_access_recess = tab_eq_access_recess.get(access_recess_pos.value)\n",
    "eq_access_recess"
   ]
  },
  {
   "cell_type": "code",
   "execution_count": null,
   "metadata": {},
   "outputs": [],
   "source": [
    "# Apogée du soleil\n",
    "with set_precision(pmode=PrecisionMode.MAX, tmode=TruncatureMode.ROUND):\n",
    "    solar_apogee_pos = mean_fixed_star_pos + eq_access_recess + Sexagesimal(\"1,11;25,23\") * u.degree\n",
    "solar_apogee_pos"
   ]
  },
  {
   "cell_type": "code",
   "execution_count": null,
   "metadata": {},
   "outputs": [],
   "source": [
    "# Argument moyen du soleil\n",
    "with set_precision(pmode=PrecisionMode.MAX, tmode=TruncatureMode.ROUND):\n",
    "    mean_arg_sun = mean_sun_pos + (Sexagesimal(6,0) * u.degree if mean_sun_pos < solar_apogee_pos else 0) - solar_apogee_pos\n",
    "mean_arg_sun"
   ]
  },
  {
   "cell_type": "code",
   "execution_count": null,
   "metadata": {},
   "outputs": [],
   "source": [
    "# Équation du soleil\n",
    "\n",
    "tab_eq_sun = HTable.read(19, format=\"dishas\")\n",
    "with set_precision(pmode=PrecisionMode.MAX, tmode=TruncatureMode.ROUND):\n",
    "    eq_sun = tab_eq_sun.get(mean_arg_sun.value)\n",
    "eq_sun"
   ]
  },
  {
   "cell_type": "code",
   "execution_count": null,
   "metadata": {},
   "outputs": [],
   "source": [
    "# Vraie position du soleil\n",
    "\n",
    "with set_precision(pmode=PrecisionMode.CUSTOM, tmode=TruncatureMode.ROUND, custom_precision=2):\n",
    "    true_pos_sun = mean_sun_pos + (Sexagesimal(6,0) * u.degree if mean_sun_pos < eq_sun else 0) - eq_sun\n",
    "true_pos_sun"
   ]
  }
 ],
 "metadata": {
  "kernelspec": {
   "display_name": "Python 3",
   "language": "python",
   "name": "python3"
  },
  "language_info": {
   "codemirror_mode": {
    "name": "ipython",
    "version": 3
   },
   "file_extension": ".py",
   "mimetype": "text/x-python",
   "name": "python",
   "nbconvert_exporter": "python",
   "pygments_lexer": "ipython3",
   "version": "3.9.0-final"
  }
 },
 "nbformat": 4,
 "nbformat_minor": 4
}
